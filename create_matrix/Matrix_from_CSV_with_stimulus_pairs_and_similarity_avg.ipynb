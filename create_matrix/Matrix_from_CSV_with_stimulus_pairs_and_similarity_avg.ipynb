{
 "cells": [
  {
   "cell_type": "code",
   "execution_count": 10,
   "id": "6ebcc7a5",
   "metadata": {},
   "outputs": [
    {
     "name": "stdout",
     "output_type": "stream",
     "text": [
      "The mean similarity value is -0.3579387467244954\n",
      "Similarity matrix saved to C:\\Users\\kawan\\OneDrive\\デスクトップ\\similarity_matrix.csv\n"
     ]
    }
   ],
   "source": [
    "import pandas as pd\n",
    "\n",
    "# Step 1: Read the CSV file\n",
    "input_file = input(\"Please enter the input CSV_with_stimulus_pairs_and_similarity_avg path: \")\n",
    "data = pd.read_csv(input_file)\n",
    "\n",
    "# Calculate the mean similarity value\n",
    "mean_similarity = data['similarity'].mean()\n",
    "print(f\"The mean similarity value is {mean_similarity}\")\n",
    "\n",
    "# Handle missing values: Fill missing similarity values with the mean of the similarity column\n",
    "data['similarity'] = data['similarity'].fillna(mean_similarity)\n",
    "\n",
    "# Step 2: Create the similarity matrix\n",
    "entities = pd.unique(data[['displayed_text_above', 'displayed_text_below']].values.ravel('K'))\n",
    "similarity_matrix = pd.DataFrame(index=entities, columns=entities, data=mean_similarity)\n",
    "\n",
    "for _, row in data.iterrows():\n",
    "    similarity_matrix.loc[row['displayed_text_above'], row['displayed_text_below']] = row['similarity']\n",
    "    similarity_matrix.loc[row['displayed_text_below'], row['displayed_text_above']] = row['similarity']  # Assuming the similarity is symmetric\n",
    "\n",
    "# Step 3: Save the similarity matrix as a CSV file\n",
    "output_file = input(\"Please enter the output file path for the results CSV: \")\n",
    "similarity_matrix.to_csv(output_file)\n",
    "\n",
    "print(f\"Similarity matrix saved to {output_file}\")\n",
    "\n",
    "\n",
    "\n"
   ]
  }
 ],
 "metadata": {
  "kernelspec": {
   "display_name": "Python 3 (ipykernel)",
   "language": "python",
   "name": "python3"
  },
  "language_info": {
   "codemirror_mode": {
    "name": "ipython",
    "version": 3
   },
   "file_extension": ".py",
   "mimetype": "text/x-python",
   "name": "python",
   "nbconvert_exporter": "python",
   "pygments_lexer": "ipython3",
   "version": "3.12.4"
  }
 },
 "nbformat": 4,
 "nbformat_minor": 5
}
