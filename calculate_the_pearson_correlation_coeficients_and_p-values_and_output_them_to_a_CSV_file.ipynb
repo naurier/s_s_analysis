{
 "cells": [
  {
   "cell_type": "code",
   "execution_count": 3,
   "metadata": {},
   "outputs": [
    {
     "name": "stdout",
     "output_type": "stream",
     "text": [
      "結果が C:\\Users\\kawamura.n\\Desktop\\sentence_simirality\\data\\Analysis_by_trait\\data_Pavlovia\\correlation_results.csv に保存されました。\n"
     ]
    }
   ],
   "source": [
    "import os\n",
    "import pandas as pd\n",
    "from scipy.stats import pearsonr\n",
    "\n",
    "# フォルダのパス\n",
    "folder_path = input(\"Please enter the folder path containing the CSV files: \")\n",
    "\n",
    "# フォルダ内の全てのファイルを取得\n",
    "files = [f for f in os.listdir(folder_path) if f.endswith('.csv')]\n",
    "\n",
    "# 結果を保存するリスト\n",
    "results = []\n",
    "\n",
    "# 各ファイルに対して計算を行う\n",
    "for file in files:\n",
    "    file_path = os.path.join(folder_path, file)\n",
    "    df = pd.read_csv(file_path)\n",
    "    \n",
    "    # 指定された範囲の数値を抽出する\n",
    "    similarity_14_38 = df.loc[13:37, 'similarity'].reset_index(drop=True)\n",
    "    similarity_113_89 = df.loc[112:88:-1, 'similarity'].reset_index(drop=True)\n",
    "    \n",
    "    # データの長さが一致する場合のみ計算を行う\n",
    "    if len(similarity_14_38) == len(similarity_113_89):\n",
    "        correlation, p_value = pearsonr(similarity_14_38, similarity_113_89)\n",
    "        \n",
    "        # 結果をリストに追加\n",
    "        results.append({\n",
    "            'file': file[:10],\n",
    "            'correlation': correlation,\n",
    "            'p_value': p_value\n",
    "        })\n",
    "    else:\n",
    "        results.append({\n",
    "            'file': file[:10],\n",
    "            'correlation': None,\n",
    "            'p_value': None,\n",
    "            'note': 'データ長が一致しませんでした'\n",
    "        })\n",
    "\n",
    "# 結果をDataFrameに変換\n",
    "results_df = pd.DataFrame(results)\n",
    "\n",
    "# 結果をCSVファイルに保存\n",
    "output_path = input(\"Please enter the output file path for the results CSV: \")\n",
    "results_df.to_csv(output_path, index=False)\n",
    "\n",
    "print(f\"結果が {output_path} に保存されました。\")\n"
   ]
  },
  {
   "cell_type": "code",
   "execution_count": null,
   "metadata": {},
   "outputs": [],
   "source": []
  }
 ],
 "metadata": {
  "kernelspec": {
   "display_name": "Python 3 (ipykernel)",
   "language": "python",
   "name": "python3"
  },
  "language_info": {
   "codemirror_mode": {
    "name": "ipython",
    "version": 3
   },
   "file_extension": ".py",
   "mimetype": "text/x-python",
   "name": "python",
   "nbconvert_exporter": "python",
   "pygments_lexer": "ipython3",
   "version": "3.12.4"
  }
 },
 "nbformat": 4,
 "nbformat_minor": 4
}
